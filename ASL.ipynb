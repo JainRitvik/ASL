{
 "cells": [
  {
   "cell_type": "markdown",
   "metadata": {
    "_cell_guid": "07062a19-3f08-499f-a5a7-d6f34cdf125e",
    "_uuid": "faa859a5-6753-490d-986a-1589884d988f",
    "papermill": {
     "duration": 0.030637,
     "end_time": "2023-03-31T00:46:22.953438",
     "exception": false,
     "start_time": "2023-03-31T00:46:22.922801",
     "status": "completed"
    },
    "tags": []
   },
   "source": [
    "## In this Notebook I will be performing image classification on American Sign Language Detection(ASL) dataset"
   ]
  },
  {
   "cell_type": "markdown",
   "metadata": {
    "_cell_guid": "e0fffe98-758d-4319-bd66-6f207729a630",
    "_uuid": "c0d7c1be-58ba-4ff6-a111-25c9c31e0eda",
    "papermill": {
     "duration": 0.029162,
     "end_time": "2023-03-31T00:46:23.012157",
     "exception": false,
     "start_time": "2023-03-31T00:46:22.982995",
     "status": "completed"
    },
    "tags": []
   },
   "source": [
    "### Importing packages"
   ]
  },
  {
   "cell_type": "code",
   "execution_count": 1,
   "metadata": {
    "_cell_guid": "1e37fef9-7f9f-4b06-a8de-3f367d649045",
    "_kg_hide-input": true,
    "_uuid": "d20235e4-152b-489d-a746-cc67a4003510",
    "collapsed": false,
    "execution": {
     "iopub.execute_input": "2023-03-31T00:46:23.079551Z",
     "iopub.status.busy": "2023-03-31T00:46:23.078676Z",
     "iopub.status.idle": "2023-03-31T00:46:30.987393Z",
     "shell.execute_reply": "2023-03-31T00:46:30.986044Z",
     "shell.execute_reply.started": "2023-03-30T18:22:03.431809Z"
    },
    "jupyter": {
     "outputs_hidden": false
    },
    "papermill": {
     "duration": 7.94632,
     "end_time": "2023-03-31T00:46:30.987633",
     "exception": false,
     "start_time": "2023-03-31T00:46:23.041313",
     "status": "completed"
    },
    "tags": []
   },
   "outputs": [
    {
     "name": "stdout",
     "output_type": "stream",
     "text": [
      "Packages imported...\n"
     ]
    }
   ],
   "source": [
    "# import data processing and visualisation libraries\n",
    "import numpy as np\n",
    "import pandas as pd\n",
    "import seaborn as sns\n",
    "import matplotlib.pyplot as plt\n",
    "%matplotlib inline\n",
    "\n",
    "# import image processing libraries\n",
    "import cv2\n",
    "import skimage\n",
    "from skimage.transform import resize\n",
    "\n",
    "# import tensorflow and keras\n",
    "import tensorflow as tf\n",
    "from tensorflow import keras\n",
    "import os\n",
    "\n",
    "print(\"Packages imported...\")"
   ]
  },
  {
   "cell_type": "markdown",
   "metadata": {
    "_cell_guid": "b3a465c1-760b-48fa-a281-b51d5ef510aa",
    "_uuid": "05e0a0aa-da07-4dff-a4d7-66ca13fa80b1",
    "papermill": {
     "duration": 0.029039,
     "end_time": "2023-03-31T00:46:31.047755",
     "exception": false,
     "start_time": "2023-03-31T00:46:31.018716",
     "status": "completed"
    },
    "tags": []
   },
   "source": [
    "### Importing the dataset from training directory"
   ]
  },
  {
   "cell_type": "code",
   "execution_count": 2,
   "metadata": {
    "_cell_guid": "2265d143-13e7-43d9-b72d-18eb4b42ac2e",
    "_kg_hide-input": true,
    "_uuid": "0fab0f82-e179-4781-ad9d-973fed3ae070",
    "collapsed": false,
    "execution": {
     "iopub.execute_input": "2023-03-31T00:46:31.132162Z",
     "iopub.status.busy": "2023-03-31T00:46:31.131244Z",
     "iopub.status.idle": "2023-03-31T01:03:40.319182Z",
     "shell.execute_reply": "2023-03-31T01:03:40.319775Z",
     "shell.execute_reply.started": "2023-03-30T18:22:04.740051Z"
    },
    "jupyter": {
     "outputs_hidden": false
    },
    "papermill": {
     "duration": 1029.242372,
     "end_time": "2023-03-31T01:03:40.319971",
     "exception": false,
     "start_time": "2023-03-31T00:46:31.077599",
     "status": "completed"
    },
    "tags": []
   },
   "outputs": [
    {
     "name": "stdout",
     "output_type": "stream",
     "text": [
      "Images successfully imported...\n"
     ]
    }
   ],
   "source": [
    "batch_size = 64\n",
    "imageSize = 64\n",
    "target_dims = (imageSize, imageSize, 3)\n",
    "num_classes = 29\n",
    "\n",
    "train_len = 87000\n",
    "train_dir = pd.read_csv(r\"C:\\Users\\jainr\\OneDrive\\Desktop\\DS projects\\AdSmartABdata - AdSmartABdata.csv\")\n",
    "\n",
    "def get_data(folder):\n",
    "    X = np.empty((train_len, imageSize, imageSize, 3), dtype=np.float32)\n",
    "    y = np.empty((train_len,), dtype=np.int)\n",
    "    cnt = 0\n",
    "    for folderName in os.listdir(folder):\n",
    "        if not folderName.startswith('.'):\n",
    "            if folderName in ['A']:\n",
    "                label = 0\n",
    "            elif folderName in ['B']:\n",
    "                label = 1\n",
    "            elif folderName in ['C']:\n",
    "                label = 2\n",
    "            elif folderName in ['D']:\n",
    "                label = 3\n",
    "            elif folderName in ['E']:\n",
    "                label = 4\n",
    "            elif folderName in ['F']:\n",
    "                label = 5\n",
    "            elif folderName in ['G']:\n",
    "                label = 6\n",
    "            elif folderName in ['H']:\n",
    "                label = 7\n",
    "            elif folderName in ['I']:\n",
    "                label = 8\n",
    "            elif folderName in ['J']:\n",
    "                label = 9\n",
    "            elif folderName in ['K']:\n",
    "                label = 10\n",
    "            elif folderName in ['L']:\n",
    "                label = 11\n",
    "            elif folderName in ['M']:\n",
    "                label = 12\n",
    "            elif folderName in ['N']:\n",
    "                label = 13\n",
    "            elif folderName in ['O']:\n",
    "                label = 14\n",
    "            elif folderName in ['P']:\n",
    "                label = 15\n",
    "            elif folderName in ['Q']:\n",
    "                label = 16\n",
    "            elif folderName in ['R']:\n",
    "                label = 17\n",
    "            elif folderName in ['S']:\n",
    "                label = 18\n",
    "            elif folderName in ['T']:\n",
    "                label = 19\n",
    "            elif folderName in ['U']:\n",
    "                label = 20\n",
    "            elif folderName in ['V']:\n",
    "                label = 21\n",
    "            elif folderName in ['W']:\n",
    "                label = 22\n",
    "            elif folderName in ['X']:\n",
    "                label = 23\n",
    "            elif folderName in ['Y']:\n",
    "                label = 24\n",
    "            elif folderName in ['Z']:\n",
    "                label = 25\n",
    "            elif folderName in ['del']:\n",
    "                label = 26\n",
    "            elif folderName in ['nothing']:\n",
    "                label = 27\n",
    "            elif folderName in ['space']:\n",
    "                label = 28           \n",
    "            else:\n",
    "                label = 29\n",
    "            for image_filename in os.listdir(folder + folderName):\n",
    "                img_file = cv2.imread(folder + folderName + '/' + image_filename)\n",
    "                if img_file is not None:\n",
    "                    img_file = skimage.transform.resize(img_file, (imageSize, imageSize, 3))\n",
    "                    img_arr = np.asarray(img_file).reshape((-1, imageSize, imageSize, 3))\n",
    "                    \n",
    "                    X[cnt] = img_arr\n",
    "                    y[cnt] = label\n",
    "                    cnt += 1\n",
    "    return X,y\n",
    "X_train, y_train = get_data(train_dir)\n",
    "print(\"Images successfully imported...\")"
   ]
  },
  {
   "cell_type": "markdown",
   "metadata": {
    "papermill": {
     "duration": 0.031767,
     "end_time": "2023-03-31T01:03:40.382480",
     "exception": false,
     "start_time": "2023-03-31T01:03:40.350713",
     "status": "completed"
    },
    "tags": []
   },
   "source": [
    "### Checking the shape of data <a id=3></a>"
   ]
  },
  {
   "cell_type": "code",
   "execution_count": 3,
   "metadata": {
    "_cell_guid": "067c2ef4-496b-4a67-bf5a-cc7a139ab7bd",
    "_kg_hide-input": true,
    "_uuid": "a5add51b-31da-4c0e-b1ff-573184900634",
    "collapsed": false,
    "execution": {
     "iopub.execute_input": "2023-03-31T01:03:40.448519Z",
     "iopub.status.busy": "2023-03-31T01:03:40.447769Z",
     "iopub.status.idle": "2023-03-31T01:03:40.450568Z",
     "shell.execute_reply": "2023-03-31T01:03:40.451091Z",
     "shell.execute_reply.started": "2023-03-30T18:37:02.870767Z"
    },
    "jupyter": {
     "outputs_hidden": false
    },
    "papermill": {
     "duration": 0.038863,
     "end_time": "2023-03-31T01:03:40.451246",
     "exception": false,
     "start_time": "2023-03-31T01:03:40.412383",
     "status": "completed"
    },
    "tags": []
   },
   "outputs": [
    {
     "name": "stdout",
     "output_type": "stream",
     "text": [
      "The shape of X_train is :  (87000, 64, 64, 3)\n",
      "The shape of y_train is :  (87000,)\n"
     ]
    }
   ],
   "source": [
    "print(\"The shape of X_train is : \", X_train.shape)\n",
    "print(\"The shape of y_train is : \", y_train.shape)"
   ]
  },
  {
   "cell_type": "markdown",
   "metadata": {
    "papermill": {
     "duration": 0.030151,
     "end_time": "2023-03-31T01:03:40.511554",
     "exception": false,
     "start_time": "2023-03-31T01:03:40.481403",
     "status": "completed"
    },
    "tags": []
   },
   "source": [
    "### Checking the shape of one image <a id=4></a>"
   ]
  },
  {
   "cell_type": "code",
   "execution_count": 4,
   "metadata": {
    "_cell_guid": "900696c7-8be7-4337-a43f-16ccd81340f9",
    "_kg_hide-input": true,
    "_uuid": "d26a695b-50e9-48ba-b70d-46bd2eb2a6f6",
    "collapsed": false,
    "execution": {
     "iopub.execute_input": "2023-03-31T01:03:40.578508Z",
     "iopub.status.busy": "2023-03-31T01:03:40.577491Z",
     "iopub.status.idle": "2023-03-31T01:03:40.581125Z",
     "shell.execute_reply": "2023-03-31T01:03:40.581668Z",
     "shell.execute_reply.started": "2023-03-30T18:37:07.694344Z"
    },
    "jupyter": {
     "outputs_hidden": false
    },
    "papermill": {
     "duration": 0.039625,
     "end_time": "2023-03-31T01:03:40.581823",
     "exception": false,
     "start_time": "2023-03-31T01:03:40.542198",
     "status": "completed"
    },
    "tags": []
   },
   "outputs": [
    {
     "name": "stdout",
     "output_type": "stream",
     "text": [
      "The shape of one image is :  (64, 64, 3)\n"
     ]
    }
   ],
   "source": [
    "print(\"The shape of one image is : \", X_train[0].shape)"
   ]
  },
  {
   "cell_type": "markdown",
   "metadata": {
    "papermill": {
     "duration": 0.031983,
     "end_time": "2023-03-31T01:03:40.645466",
     "exception": false,
     "start_time": "2023-03-31T01:03:40.613483",
     "status": "completed"
    },
    "tags": []
   },
   "source": [
    "### Viewing the image"
   ]
  },
  {
   "cell_type": "code",
   "execution_count": 5,
   "metadata": {
    "_cell_guid": "07904f67-f959-4785-a2a9-d26da5737f73",
    "_kg_hide-input": true,
    "_uuid": "47fc5cad-9dc5-4d85-81e4-063e6e0a084f",
    "collapsed": false,
    "execution": {
     "iopub.execute_input": "2023-03-31T01:03:40.725841Z",
     "iopub.status.busy": "2023-03-31T01:03:40.724555Z",
     "iopub.status.idle": "2023-03-31T01:03:40.908780Z",
     "shell.execute_reply": "2023-03-31T01:03:40.908088Z",
     "shell.execute_reply.started": "2023-03-30T18:37:12.960471Z"
    },
    "jupyter": {
     "outputs_hidden": false
    },
    "papermill": {
     "duration": 0.231637,
     "end_time": "2023-03-31T01:03:40.908906",
     "exception": false,
     "start_time": "2023-03-31T01:03:40.677269",
     "status": "completed"
    },
    "tags": []
   },
   "outputs": [
    {
     "data": {
      "image/png": "[encoded data removed]",
      "text/plain": [
       "<Figure size 432x288 with 1 Axes>"
      ]
     },
     "metadata": {
      "needs_background": "light"
     },
     "output_type": "display_data"
    }
   ],
   "source": [
    "plt.imshow(X_train[0])\n",
    "plt.show()"
   ]
  },
  {
   "cell_type": "markdown",
   "metadata": {
    "papermill": {
     "duration": 0.031784,
     "end_time": "2023-03-31T01:03:40.972161",
     "exception": false,
     "start_time": "2023-03-31T01:03:40.940377",
     "status": "completed"
    },
    "tags": []
   },
   "source": [
    "### Making copies of original data"
   ]
  },
  {
   "cell_type": "code",
   "execution_count": 6,
   "metadata": {
    "_cell_guid": "565a6756-d740-4ebe-ab3a-edd5d10d89cf",
    "_kg_hide-input": true,
    "_uuid": "1a129c25-b487-4d64-bb95-ce34367497d6",
    "collapsed": false,
    "execution": {
     "iopub.execute_input": "2023-03-31T01:03:41.040267Z",
     "iopub.status.busy": "2023-03-31T01:03:41.039551Z",
     "iopub.status.idle": "2023-03-31T01:03:41.043657Z",
     "shell.execute_reply": "2023-03-31T01:03:41.042949Z",
     "shell.execute_reply.started": "2023-03-30T18:37:16.197284Z"
    },
    "jupyter": {
     "outputs_hidden": false
    },
    "papermill": {
     "duration": 0.040278,
     "end_time": "2023-03-31T01:03:41.043781",
     "exception": false,
     "start_time": "2023-03-31T01:03:41.003503",
     "status": "completed"
    },
    "tags": []
   },
   "outputs": [
    {
     "name": "stdout",
     "output_type": "stream",
     "text": [
      "Copies made...\n"
     ]
    }
   ],
   "source": [
    "X_data = X_train\n",
    "y_data = y_train\n",
    "print(\"Copies made...\")"
   ]
  },
  {
   "cell_type": "markdown",
   "metadata": {
    "_cell_guid": "37d05451-8836-41ff-865f-cdc9ea9567b0",
    "_uuid": "7b6c425c-49f0-4617-bda4-cf848cb75f14",
    "papermill": {
     "duration": 0.031804,
     "end_time": "2023-03-31T01:03:41.107090",
     "exception": false,
     "start_time": "2023-03-31T01:03:41.075286",
     "status": "completed"
    },
    "tags": []
   },
   "source": [
    "### Data processing "
   ]
  },
  {
   "cell_type": "markdown",
   "metadata": {
    "papermill": {
     "duration": 0.031325,
     "end_time": "2023-03-31T01:03:41.169882",
     "exception": false,
     "start_time": "2023-03-31T01:03:41.138557",
     "status": "completed"
    },
    "tags": []
   },
   "source": [
    "### Train/test split"
   ]
  },
  {
   "cell_type": "code",
   "execution_count": 7,
   "metadata": {
    "_cell_guid": "f834b860-92b6-49ca-8fc0-f3a3f20d7456",
    "_kg_hide-input": true,
    "_uuid": "100112bd-a136-4fb9-bb03-ef07020a294f",
    "collapsed": false,
    "execution": {
     "iopub.execute_input": "2023-03-31T01:03:41.238964Z",
     "iopub.status.busy": "2023-03-31T01:03:41.238325Z",
     "iopub.status.idle": "2023-03-31T01:03:43.301090Z",
     "shell.execute_reply": "2023-03-31T01:03:43.301598Z",
     "shell.execute_reply.started": "2023-03-30T18:37:22.038002Z"
    },
    "jupyter": {
     "outputs_hidden": false
    },
    "papermill": {
     "duration": 2.099802,
     "end_time": "2023-03-31T01:03:43.301770",
     "exception": false,
     "start_time": "2023-03-31T01:03:41.201968",
     "status": "completed"
    },
    "tags": []
   },
   "outputs": [],
   "source": [
    "from sklearn.model_selection import train_test_split\n",
    "\n",
    "X_train, X_test, y_train, y_test = train_test_split(X_data, y_data, test_size=0.3,random_state=42,stratify=y_data)"
   ]
  },
  {
   "cell_type": "markdown",
   "metadata": {
    "papermill": {
     "duration": 0.031533,
     "end_time": "2023-03-31T01:03:43.365106",
     "exception": false,
     "start_time": "2023-03-31T01:03:43.333573",
     "status": "completed"
    },
    "tags": []
   },
   "source": [
    "### One-Hot-Encoding "
   ]
  },
  {
   "cell_type": "code",
   "execution_count": 8,
   "metadata": {
    "_cell_guid": "9257b00c-3b27-4e54-967d-903b7e52e65f",
    "_kg_hide-input": true,
    "_uuid": "df3ce29e-d4a1-41cc-a980-a1fdddbb83b8",
    "collapsed": false,
    "execution": {
     "iopub.execute_input": "2023-03-31T01:03:43.433549Z",
     "iopub.status.busy": "2023-03-31T01:03:43.432865Z",
     "iopub.status.idle": "2023-03-31T01:03:43.446681Z",
     "shell.execute_reply": "2023-03-31T01:03:43.447259Z",
     "shell.execute_reply.started": "2023-03-30T18:37:29.993051Z"
    },
    "jupyter": {
     "outputs_hidden": false
    },
    "papermill": {
     "duration": 0.049054,
     "end_time": "2023-03-31T01:03:43.447429",
     "exception": false,
     "start_time": "2023-03-31T01:03:43.398375",
     "status": "completed"
    },
    "tags": []
   },
   "outputs": [],
   "source": [
    "# One-Hot-Encoding the categorical data\n",
    "from tensorflow.keras.utils import to_categorical\n",
    "y_cat_train = to_categorical(y_train,29)\n",
    "y_cat_test = to_categorical(y_test,29)"
   ]
  },
  {
   "cell_type": "markdown",
   "metadata": {
    "papermill": {
     "duration": 0.031111,
     "end_time": "2023-03-31T01:03:43.511171",
     "exception": false,
     "start_time": "2023-03-31T01:03:43.480060",
     "status": "completed"
    },
    "tags": []
   },
   "source": [
    "### Dimension Check of variables"
   ]
  },
  {
   "cell_type": "code",
   "execution_count": 9,
   "metadata": {
    "_cell_guid": "dae48de7-8e50-4c4e-a297-d8e3c09741da",
    "_kg_hide-input": true,
    "_uuid": "e9f8c8b8-df33-48f5-92a4-1e4d9a5393c4",
    "collapsed": false,
    "execution": {
     "iopub.execute_input": "2023-03-31T01:03:43.577570Z",
     "iopub.status.busy": "2023-03-31T01:03:43.576835Z",
     "iopub.status.idle": "2023-03-31T01:03:43.584607Z",
     "shell.execute_reply": "2023-03-31T01:03:43.583896Z",
     "shell.execute_reply.started": "2023-03-30T18:37:31.087745Z"
    },
    "jupyter": {
     "outputs_hidden": false
    },
    "papermill": {
     "duration": 0.042104,
     "end_time": "2023-03-31T01:03:43.584738",
     "exception": false,
     "start_time": "2023-03-31T01:03:43.542634",
     "status": "completed"
    },
    "tags": []
   },
   "outputs": [
    {
     "name": "stdout",
     "output_type": "stream",
     "text": [
      "(60900, 64, 64, 3)\n",
      "(60900,)\n",
      "(26100, 64, 64, 3)\n",
      "(26100,)\n",
      "(60900, 29)\n",
      "(26100, 29)\n"
     ]
    }
   ],
   "source": [
    "# Checking the dimensions of all the variables\n",
    "print(X_train.shape)\n",
    "print(y_train.shape)\n",
    "print(X_test.shape)\n",
    "print(y_test.shape)\n",
    "print(y_cat_train.shape)\n",
    "print(y_cat_test.shape)"
   ]
  },
  {
   "cell_type": "markdown",
   "metadata": {
    "_cell_guid": "5ea40005-f9c4-45d8-b5fc-62efbbc7552f",
    "_uuid": "e2310305-968c-4304-98c0-0fa6f948f7ed",
    "papermill": {
     "duration": 0.033742,
     "end_time": "2023-03-31T01:03:43.650488",
     "exception": false,
     "start_time": "2023-03-31T01:03:43.616746",
     "status": "completed"
    },
    "tags": []
   },
   "source": [
    "### Garbage Collection"
   ]
  },
  {
   "cell_type": "code",
   "execution_count": 10,
   "metadata": {
    "_cell_guid": "60b60e7c-5ad2-4200-b77b-d780c19a63c8",
    "_kg_hide-input": true,
    "_uuid": "0d1a9c60-97e0-4d93-96a2-8414ebe5a77b",
    "collapsed": false,
    "execution": {
     "iopub.execute_input": "2023-03-31T01:03:43.718712Z",
     "iopub.status.busy": "2023-03-31T01:03:43.718065Z",
     "iopub.status.idle": "2023-03-31T01:03:43.882160Z",
     "shell.execute_reply": "2023-03-31T01:03:43.882768Z",
     "shell.execute_reply.started": "2023-03-30T18:37:32.354233Z"
    },
    "jupyter": {
     "outputs_hidden": false
    },
    "papermill": {
     "duration": 0.199189,
     "end_time": "2023-03-31T01:03:43.882921",
     "exception": false,
     "start_time": "2023-03-31T01:03:43.683732",
     "status": "completed"
    },
    "tags": []
   },
   "outputs": [
    {
     "data": {
      "text/plain": [
       "2483"
      ]
     },
     "execution_count": 10,
     "metadata": {},
     "output_type": "execute_result"
    }
   ],
   "source": [
    "# This is done to save CPU and RAM space while working on Kaggle Kernels. This will delete the specified data and save some space!\n",
    "import gc\n",
    "del X_data\n",
    "del y_data\n",
    "gc.collect()"
   ]
  },
  {
   "cell_type": "markdown",
   "metadata": {
    "_cell_guid": "d6ccd7c2-0204-438f-adf9-5a43f02a9978",
    "_uuid": "260a1235-958e-4446-a8c1-49ba2e8edda3",
    "papermill": {
     "duration": 0.031663,
     "end_time": "2023-03-31T01:03:43.946629",
     "exception": false,
     "start_time": "2023-03-31T01:03:43.914966",
     "status": "completed"
    },
    "tags": []
   },
   "source": [
    "### Modeling"
   ]
  },
  {
   "cell_type": "markdown",
   "metadata": {
    "papermill": {
     "duration": 0.031502,
     "end_time": "2023-03-31T01:03:44.010152",
     "exception": false,
     "start_time": "2023-03-31T01:03:43.978650",
     "status": "completed"
    },
    "tags": []
   },
   "source": [
    "### Importing packages"
   ]
  },
  {
   "cell_type": "code",
   "execution_count": 11,
   "metadata": {
    "_cell_guid": "600cfa51-bec1-496f-ac4d-fe9cb700c03d",
    "_kg_hide-input": true,
    "_uuid": "6900c3dd-09dc-4f84-bbc4-2515d2d6c193",
    "collapsed": false,
    "execution": {
     "iopub.execute_input": "2023-03-31T01:03:44.079134Z",
     "iopub.status.busy": "2023-03-31T01:03:44.078486Z",
     "iopub.status.idle": "2023-03-31T01:03:44.136753Z",
     "shell.execute_reply": "2023-03-31T01:03:44.137243Z",
     "shell.execute_reply.started": "2023-03-30T18:37:35.031294Z"
    },
    "jupyter": {
     "outputs_hidden": false
    },
    "papermill": {
     "duration": 0.095176,
     "end_time": "2023-03-31T01:03:44.137404",
     "exception": false,
     "start_time": "2023-03-31T01:03:44.042228",
     "status": "completed"
    },
    "tags": []
   },
   "outputs": [
    {
     "name": "stdout",
     "output_type": "stream",
     "text": [
      "Packages imported...\n"
     ]
    }
   ],
   "source": [
    "from keras.models import Sequential\n",
    "from keras.layers import Conv2D, MaxPooling2D, Activation, Dense, Flatten\n",
    "print(\"Packages imported...\")"
   ]
  },
  {
   "cell_type": "markdown",
   "metadata": {
    "papermill": {
     "duration": 0.03203,
     "end_time": "2023-03-31T01:03:44.202014",
     "exception": false,
     "start_time": "2023-03-31T01:03:44.169984",
     "status": "completed"
    },
    "tags": []
   },
   "source": [
    "### Building model "
   ]
  },
  {
   "cell_type": "code",
   "execution_count": 12,
   "metadata": {
    "_cell_guid": "17f3751b-4927-483b-9d60-effe1ee70cf1",
    "_kg_hide-input": true,
    "_uuid": "43bd378a-609f-4de1-a1ad-b1d169351098",
    "collapsed": false,
    "execution": {
     "iopub.execute_input": "2023-03-31T01:03:44.276444Z",
     "iopub.status.busy": "2023-03-31T01:03:44.275713Z",
     "iopub.status.idle": "2023-03-31T01:03:44.453867Z",
     "shell.execute_reply": "2023-03-31T01:03:44.452568Z",
     "shell.execute_reply.started": "2023-03-30T18:37:36.109289Z"
    },
    "jupyter": {
     "outputs_hidden": false
    },
    "papermill": {
     "duration": 0.219745,
     "end_time": "2023-03-31T01:03:44.454140",
     "exception": false,
     "start_time": "2023-03-31T01:03:44.234395",
     "status": "completed"
    },
    "tags": []
   },
   "outputs": [
    {
     "name": "stdout",
     "output_type": "stream",
     "text": [
      "Model: \"sequential\"\n",
      "_________________________________________________________________\n",
      "Layer (type)                 Output Shape              Param #   \n",
      "=================================================================\n",
      "conv2d (Conv2D)              (None, 60, 60, 32)        2432      \n",
      "_________________________________________________________________\n",
      "activation (Activation)      (None, 60, 60, 32)        0         \n",
      "_________________________________________________________________\n",
      "max_pooling2d (MaxPooling2D) (None, 30, 30, 32)        0         \n",
      "_________________________________________________________________\n",
      "conv2d_1 (Conv2D)            (None, 28, 28, 64)        18496     \n",
      "_________________________________________________________________\n",
      "activation_1 (Activation)    (None, 28, 28, 64)        0         \n",
      "_________________________________________________________________\n",
      "max_pooling2d_1 (MaxPooling2 (None, 14, 14, 64)        0         \n",
      "_________________________________________________________________\n",
      "conv2d_2 (Conv2D)            (None, 12, 12, 64)        36928     \n",
      "_________________________________________________________________\n",
      "activation_2 (Activation)    (None, 12, 12, 64)        0         \n",
      "_________________________________________________________________\n",
      "max_pooling2d_2 (MaxPooling2 (None, 6, 6, 64)          0         \n",
      "_________________________________________________________________\n",
      "flatten (Flatten)            (None, 2304)              0         \n",
      "_________________________________________________________________\n",
      "dense (Dense)                (None, 128)               295040    \n",
      "_________________________________________________________________\n",
      "dense_1 (Dense)              (None, 29)                3741      \n",
      "=================================================================\n",
      "Total params: 356,637\n",
      "Trainable params: 356,637\n",
      "Non-trainable params: 0\n",
      "_________________________________________________________________\n"
     ]
    }
   ],
   "source": [
    "model = Sequential()\n",
    "\n",
    "model.add(Conv2D(32, (5, 5), input_shape=(64, 64, 3)))\n",
    "model.add(Activation('relu'))\n",
    "model.add(MaxPooling2D((2, 2)))\n",
    "\n",
    "model.add(Conv2D(64, (3, 3)))\n",
    "model.add(Activation('relu'))\n",
    "model.add(MaxPooling2D((2, 2)))\n",
    "\n",
    "model.add(Conv2D(64, (3, 3)))\n",
    "model.add(Activation('relu'))\n",
    "model.add(MaxPooling2D((2, 2)))\n",
    "\n",
    "model.add(Flatten())\n",
    "\n",
    "model.add(Dense(128, activation='relu'))\n",
    "\n",
    "model.add(Dense(29, activation='softmax'))\n",
    "\n",
    "model.summary()"
   ]
  },
  {
   "cell_type": "markdown",
   "metadata": {
    "papermill": {
     "duration": 0.03312,
     "end_time": "2023-03-31T01:03:44.521080",
     "exception": false,
     "start_time": "2023-03-31T01:03:44.487960",
     "status": "completed"
    },
    "tags": []
   },
   "source": [
    "### Early Stopping and Compiling"
   ]
  },
  {
   "cell_type": "markdown",
   "metadata": {
    "papermill": {
     "duration": 0.03256,
     "end_time": "2023-03-31T01:03:44.586527",
     "exception": false,
     "start_time": "2023-03-31T01:03:44.553967",
     "status": "completed"
    },
    "tags": []
   },
   "source": [
    "### Early Stopping"
   ]
  },
  {
   "cell_type": "markdown",
   "metadata": {
    "papermill": {
     "duration": 0.034114,
     "end_time": "2023-03-31T01:03:44.653494",
     "exception": false,
     "start_time": "2023-03-31T01:03:44.619380",
     "status": "completed"
    },
    "tags": []
   },
   "source": [
    "Early Stopping is done to make sure the model fitting stops at the most optimized accuracy point. After the early stopping point, the model might start overfitting. For testing purposes, this step can be skipped and complete training can be done."
   ]
  },
  {
   "cell_type": "code",
   "execution_count": 13,
   "metadata": {
    "_cell_guid": "166bc66e-a184-4685-8bab-07a4fd82b5c5",
    "_kg_hide-input": true,
    "_uuid": "e48b5f93-6c7b-4cfa-af41-0ef7f449b51e",
    "collapsed": false,
    "execution": {
     "iopub.execute_input": "2023-03-31T01:03:44.722701Z",
     "iopub.status.busy": "2023-03-31T01:03:44.721987Z",
     "iopub.status.idle": "2023-03-31T01:03:44.726128Z",
     "shell.execute_reply": "2023-03-31T01:03:44.727154Z",
     "shell.execute_reply.started": "2023-03-30T18:37:38.293060Z"
    },
    "jupyter": {
     "outputs_hidden": false
    },
    "papermill": {
     "duration": 0.040969,
     "end_time": "2023-03-31T01:03:44.727374",
     "exception": false,
     "start_time": "2023-03-31T01:03:44.686405",
     "status": "completed"
    },
    "tags": []
   },
   "outputs": [],
   "source": [
    "from tensorflow.keras.callbacks import EarlyStopping\n",
    "early_stop = EarlyStopping(monitor='val_loss',patience=2)"
   ]
  },
  {
   "cell_type": "markdown",
   "metadata": {
    "papermill": {
     "duration": 0.03266,
     "end_time": "2023-03-31T01:03:44.795811",
     "exception": false,
     "start_time": "2023-03-31T01:03:44.763151",
     "status": "completed"
    },
    "tags": []
   },
   "source": [
    "### Compiling"
   ]
  },
  {
   "cell_type": "code",
   "execution_count": 14,
   "metadata": {
    "_cell_guid": "207189e1-ee1b-466d-b032-c0e24c10d942",
    "_kg_hide-input": true,
    "_uuid": "45f4dafb-d26a-4c14-896a-cde3dff1212a",
    "collapsed": false,
    "execution": {
     "iopub.execute_input": "2023-03-31T01:03:44.870622Z",
     "iopub.status.busy": "2023-03-31T01:03:44.869852Z",
     "iopub.status.idle": "2023-03-31T01:03:44.878609Z",
     "shell.execute_reply": "2023-03-31T01:03:44.878074Z",
     "shell.execute_reply.started": "2023-03-30T18:37:40.486990Z"
    },
    "jupyter": {
     "outputs_hidden": false
    },
    "papermill": {
     "duration": 0.050177,
     "end_time": "2023-03-31T01:03:44.878738",
     "exception": false,
     "start_time": "2023-03-31T01:03:44.828561",
     "status": "completed"
    },
    "tags": []
   },
   "outputs": [],
   "source": [
    "model.compile(optimizer='adam',\n",
    "              loss='categorical_crossentropy',\n",
    "              metrics=['accuracy'])"
   ]
  },
  {
   "cell_type": "markdown",
   "metadata": {
    "_cell_guid": "e8138e59-3c44-4575-ab15-c2f9a605e8ae",
    "_uuid": "9cad5ad2-3087-4237-8354-32633dab6b1d",
    "papermill": {
     "duration": 0.032681,
     "end_time": "2023-03-31T01:03:44.945623",
     "exception": false,
     "start_time": "2023-03-31T01:03:44.912942",
     "status": "completed"
    },
    "tags": []
   },
   "source": [
    "### Model fitting  "
   ]
  },
  {
   "cell_type": "code",
   "execution_count": 15,
   "metadata": {
    "_cell_guid": "821c522f-11c6-45e9-aae9-b0f85167f8be",
    "_kg_hide-input": true,
    "_uuid": "1a1d6a1a-a207-41af-920b-044f27265cfa",
    "collapsed": false,
    "execution": {
     "iopub.execute_input": "2023-03-31T01:03:45.015305Z",
     "iopub.status.busy": "2023-03-31T01:03:45.014572Z",
     "iopub.status.idle": "2023-03-31T01:57:32.148349Z",
     "shell.execute_reply": "2023-03-31T01:57:32.147774Z",
     "shell.execute_reply.started": "2023-03-30T18:37:41.441829Z"
    },
    "jupyter": {
     "outputs_hidden": false
    },
    "papermill": {
     "duration": 3227.169971,
     "end_time": "2023-03-31T01:57:32.148484",
     "exception": false,
     "start_time": "2023-03-31T01:03:44.978513",
     "status": "completed"
    },
    "tags": []
   },
   "outputs": [
    {
     "name": "stdout",
     "output_type": "stream",
     "text": [
      "Epoch 1/50\n",
      "952/952 - 232s - loss: 1.0558 - accuracy: 0.6803 - val_loss: 0.2616 - val_accuracy: 0.9146\n",
      "Epoch 2/50\n",
      "952/952 - 231s - loss: 0.1660 - accuracy: 0.9460 - val_loss: 0.1452 - val_accuracy: 0.9522\n",
      "Epoch 3/50\n",
      "952/952 - 230s - loss: 0.0772 - accuracy: 0.9761 - val_loss: 0.1247 - val_accuracy: 0.9610\n",
      "Epoch 4/50\n",
      "952/952 - 232s - loss: 0.0548 - accuracy: 0.9831 - val_loss: 0.0485 - val_accuracy: 0.9859\n",
      "Epoch 5/50\n",
      "952/952 - 232s - loss: 0.0340 - accuracy: 0.9894 - val_loss: 0.0465 - val_accuracy: 0.9840\n",
      "Epoch 6/50\n",
      "952/952 - 231s - loss: 0.0491 - accuracy: 0.9857 - val_loss: 0.0285 - val_accuracy: 0.9916\n",
      "Epoch 7/50\n",
      "952/952 - 231s - loss: 0.0289 - accuracy: 0.9917 - val_loss: 0.0244 - val_accuracy: 0.9919\n",
      "Epoch 8/50\n",
      "952/952 - 231s - loss: 0.0271 - accuracy: 0.9914 - val_loss: 0.0418 - val_accuracy: 0.9868\n",
      "Epoch 9/50\n",
      "952/952 - 229s - loss: 0.0269 - accuracy: 0.9920 - val_loss: 0.0232 - val_accuracy: 0.9927\n",
      "Epoch 10/50\n",
      "952/952 - 228s - loss: 0.0223 - accuracy: 0.9934 - val_loss: 0.0259 - val_accuracy: 0.9942\n",
      "Epoch 11/50\n",
      "952/952 - 230s - loss: 0.0243 - accuracy: 0.9931 - val_loss: 0.0229 - val_accuracy: 0.9930\n",
      "Epoch 12/50\n",
      "952/952 - 229s - loss: 0.0161 - accuracy: 0.9952 - val_loss: 0.0115 - val_accuracy: 0.9965\n",
      "Epoch 13/50\n",
      "952/952 - 228s - loss: 0.0219 - accuracy: 0.9941 - val_loss: 0.0356 - val_accuracy: 0.9894\n",
      "Epoch 14/50\n",
      "952/952 - 226s - loss: 0.0194 - accuracy: 0.9950 - val_loss: 0.0132 - val_accuracy: 0.9969\n"
     ]
    },
    {
     "data": {
      "text/plain": [
       "<tensorflow.python.keras.callbacks.History at 0x7f46a0528b90>"
      ]
     },
     "execution_count": 15,
     "metadata": {},
     "output_type": "execute_result"
    }
   ],
   "source": [
    "model.fit(X_train, y_cat_train,\n",
    "          epochs=50,\n",
    "          batch_size=64,\n",
    "          verbose=2,\n",
    "          validation_data=(X_test, y_cat_test),\n",
    "         callbacks=[early_stop])"
   ]
  },
  {
   "cell_type": "markdown",
   "metadata": {
    "_cell_guid": "2c72fb78-8a46-4faf-ab4b-339b65c8b9dd",
    "_uuid": "8ebe106b-4eeb-44ca-9afb-9c91d02962b2",
    "papermill": {
     "duration": 0.040991,
     "end_time": "2023-03-31T01:57:32.230643",
     "exception": false,
     "start_time": "2023-03-31T01:57:32.189652",
     "status": "completed"
    },
    "tags": []
   },
   "source": [
    "### Model metrics "
   ]
  },
  {
   "cell_type": "markdown",
   "metadata": {
    "papermill": {
     "duration": 0.041025,
     "end_time": "2023-03-31T01:57:32.312827",
     "exception": false,
     "start_time": "2023-03-31T01:57:32.271802",
     "status": "completed"
    },
    "tags": []
   },
   "source": [
    "### Metrics from model history"
   ]
  },
  {
   "cell_type": "code",
   "execution_count": 16,
   "metadata": {
    "_cell_guid": "74862d05-feff-4e9c-b634-77b5a2daa8c6",
    "_kg_hide-input": true,
    "_uuid": "e1e23093-cca8-4e14-875f-2a7e2fd88f2c",
    "collapsed": false,
    "execution": {
     "iopub.execute_input": "2023-03-31T01:57:32.399386Z",
     "iopub.status.busy": "2023-03-31T01:57:32.398328Z",
     "iopub.status.idle": "2023-03-31T01:57:32.537533Z",
     "shell.execute_reply": "2023-03-31T01:57:32.536820Z",
     "shell.execute_reply.started": "2023-03-30T19:24:44.050219Z"
    },
    "jupyter": {
     "outputs_hidden": false
    },
    "papermill": {
     "duration": 0.183552,
     "end_time": "2023-03-31T01:57:32.537660",
     "exception": false,
     "start_time": "2023-03-31T01:57:32.354108",
     "status": "completed"
    },
    "tags": []
   },
   "outputs": [
    {
     "name": "stdout",
     "output_type": "stream",
     "text": [
      "The model metrics are\n"
     ]
    },
    {
     "data": {
      "text/html": [
       "<div>\n",
       "<style scoped>\n",
       "    .dataframe tbody tr th:only-of-type {\n",
       "        vertical-align: middle;\n",
       "    }\n",
       "\n",
       "    .dataframe tbody tr th {\n",
       "        vertical-align: top;\n",
       "    }\n",
       "\n",
       "    .dataframe thead th {\n",
       "        text-align: right;\n",
       "    }\n",
       "</style>\n",
       "<table border=\"1\" class=\"dataframe\">\n",
       "  <thead>\n",
       "    <tr style=\"text-align: right;\">\n",
       "      <th></th>\n",
       "      <th>loss</th>\n",
       "      <th>accuracy</th>\n",
       "      <th>val_loss</th>\n",
       "      <th>val_accuracy</th>\n",
       "    </tr>\n",
       "  </thead>\n",
       "  <tbody>\n",
       "    <tr>\n",
       "      <th>0</th>\n",
       "      <td>1.055818</td>\n",
       "      <td>0.680296</td>\n",
       "      <td>0.261553</td>\n",
       "      <td>0.914559</td>\n",
       "    </tr>\n",
       "    <tr>\n",
       "      <th>1</th>\n",
       "      <td>0.165966</td>\n",
       "      <td>0.945977</td>\n",
       "      <td>0.145226</td>\n",
       "      <td>0.952222</td>\n",
       "    </tr>\n",
       "    <tr>\n",
       "      <th>2</th>\n",
       "      <td>0.077193</td>\n",
       "      <td>0.976108</td>\n",
       "      <td>0.124713</td>\n",
       "      <td>0.960996</td>\n",
       "    </tr>\n",
       "    <tr>\n",
       "      <th>3</th>\n",
       "      <td>0.054808</td>\n",
       "      <td>0.983136</td>\n",
       "      <td>0.048451</td>\n",
       "      <td>0.985900</td>\n",
       "    </tr>\n",
       "    <tr>\n",
       "      <th>4</th>\n",
       "      <td>0.034023</td>\n",
       "      <td>0.989392</td>\n",
       "      <td>0.046495</td>\n",
       "      <td>0.984023</td>\n",
       "    </tr>\n",
       "    <tr>\n",
       "      <th>5</th>\n",
       "      <td>0.049114</td>\n",
       "      <td>0.985714</td>\n",
       "      <td>0.028543</td>\n",
       "      <td>0.991571</td>\n",
       "    </tr>\n",
       "    <tr>\n",
       "      <th>6</th>\n",
       "      <td>0.028935</td>\n",
       "      <td>0.991691</td>\n",
       "      <td>0.024415</td>\n",
       "      <td>0.991877</td>\n",
       "    </tr>\n",
       "    <tr>\n",
       "      <th>7</th>\n",
       "      <td>0.027065</td>\n",
       "      <td>0.991429</td>\n",
       "      <td>0.041821</td>\n",
       "      <td>0.986782</td>\n",
       "    </tr>\n",
       "    <tr>\n",
       "      <th>8</th>\n",
       "      <td>0.026862</td>\n",
       "      <td>0.992036</td>\n",
       "      <td>0.023227</td>\n",
       "      <td>0.992682</td>\n",
       "    </tr>\n",
       "    <tr>\n",
       "      <th>9</th>\n",
       "      <td>0.022318</td>\n",
       "      <td>0.993432</td>\n",
       "      <td>0.025903</td>\n",
       "      <td>0.994176</td>\n",
       "    </tr>\n",
       "    <tr>\n",
       "      <th>10</th>\n",
       "      <td>0.024296</td>\n",
       "      <td>0.993071</td>\n",
       "      <td>0.022900</td>\n",
       "      <td>0.992989</td>\n",
       "    </tr>\n",
       "    <tr>\n",
       "      <th>11</th>\n",
       "      <td>0.016077</td>\n",
       "      <td>0.995238</td>\n",
       "      <td>0.011497</td>\n",
       "      <td>0.996513</td>\n",
       "    </tr>\n",
       "    <tr>\n",
       "      <th>12</th>\n",
       "      <td>0.021878</td>\n",
       "      <td>0.994056</td>\n",
       "      <td>0.035624</td>\n",
       "      <td>0.989425</td>\n",
       "    </tr>\n",
       "    <tr>\n",
       "      <th>13</th>\n",
       "      <td>0.019403</td>\n",
       "      <td>0.995025</td>\n",
       "      <td>0.013160</td>\n",
       "      <td>0.996897</td>\n",
       "    </tr>\n",
       "  </tbody>\n",
       "</table>\n",
       "</div>"
      ],
      "text/plain": [
       "        loss  accuracy  val_loss  val_accuracy\n",
       "0   1.055818  0.680296  0.261553      0.914559\n",
       "1   0.165966  0.945977  0.145226      0.952222\n",
       "2   0.077193  0.976108  0.124713      0.960996\n",
       "3   0.054808  0.983136  0.048451      0.985900\n",
       "4   0.034023  0.989392  0.046495      0.984023\n",
       "5   0.049114  0.985714  0.028543      0.991571\n",
       "6   0.028935  0.991691  0.024415      0.991877\n",
       "7   0.027065  0.991429  0.041821      0.986782\n",
       "8   0.026862  0.992036  0.023227      0.992682\n",
       "9   0.022318  0.993432  0.025903      0.994176\n",
       "10  0.024296  0.993071  0.022900      0.992989\n",
       "11  0.016077  0.995238  0.011497      0.996513\n",
       "12  0.021878  0.994056  0.035624      0.989425\n",
       "13  0.019403  0.995025  0.013160      0.996897"
      ]
     },
     "execution_count": 16,
     "metadata": {},
     "output_type": "execute_result"
    }
   ],
   "source": [
    "metrics = pd.DataFrame(model.history.history)\n",
    "print(\"The model metrics are\")\n",
    "metrics"
   ]
  },
  {
   "cell_type": "markdown",
   "metadata": {
    "papermill": {
     "duration": 0.042662,
     "end_time": "2023-03-31T01:57:32.623792",
     "exception": false,
     "start_time": "2023-03-31T01:57:32.581130",
     "status": "completed"
    },
    "tags": []
   },
   "source": [
    "### Plotting the training loss"
   ]
  },
  {
   "cell_type": "code",
   "execution_count": 17,
   "metadata": {
    "_cell_guid": "de0a1bf2-1bd7-4cb3-a63a-3b3fb85618e3",
    "_kg_hide-input": true,
    "_uuid": "6ab8f14a-faa4-446f-9fc9-afc2778ce699",
    "collapsed": false,
    "execution": {
     "iopub.execute_input": "2023-03-31T01:57:32.715234Z",
     "iopub.status.busy": "2023-03-31T01:57:32.714488Z",
     "iopub.status.idle": "2023-03-31T01:57:32.897952Z",
     "shell.execute_reply": "2023-03-31T01:57:32.897203Z",
     "shell.execute_reply.started": "2023-03-30T19:24:58.748020Z"
    },
    "jupyter": {
     "outputs_hidden": false
    },
    "papermill": {
     "duration": 0.231852,
     "end_time": "2023-03-31T01:57:32.898095",
     "exception": false,
     "start_time": "2023-03-31T01:57:32.666243",
     "status": "completed"
    },
    "tags": []
   },
   "outputs": [
    {
     "data": {
      "image/png": "[encoded data removed]",
      "text/plain": [
       "<Figure size 432x288 with 1 Axes>"
      ]
     },
     "metadata": {
      "needs_background": "light"
     },
     "output_type": "display_data"
    }
   ],
   "source": [
    "metrics[['loss','val_loss']].plot()\n",
    "plt.show()"
   ]
  },
  {
   "cell_type": "markdown",
   "metadata": {
    "papermill": {
     "duration": 0.04426,
     "end_time": "2023-03-31T01:57:32.986731",
     "exception": false,
     "start_time": "2023-03-31T01:57:32.942471",
     "status": "completed"
    },
    "tags": []
   },
   "source": [
    "### Plotting the testing loss"
   ]
  },
  {
   "cell_type": "code",
   "execution_count": 18,
   "metadata": {
    "_cell_guid": "9209698c-13bb-4ae9-a309-79771ac5354d",
    "_kg_hide-input": true,
    "_uuid": "97d6cb1a-10ec-4849-a1b2-f0551b704b4c",
    "collapsed": false,
    "execution": {
     "iopub.execute_input": "2023-03-31T01:57:33.082252Z",
     "iopub.status.busy": "2023-03-31T01:57:33.081528Z",
     "iopub.status.idle": "2023-03-31T01:57:33.246178Z",
     "shell.execute_reply": "2023-03-31T01:57:33.246674Z",
     "shell.execute_reply.started": "2023-03-30T19:25:01.574992Z"
    },
    "jupyter": {
     "outputs_hidden": false
    },
    "papermill": {
     "duration": 0.217126,
     "end_time": "2023-03-31T01:57:33.246857",
     "exception": false,
     "start_time": "2023-03-31T01:57:33.029731",
     "status": "completed"
    },
    "tags": []
   },
   "outputs": [
    {
     "data": {
      "image/png": "[encoded data removed]",
      "text/plain": [
       "<Figure size 432x288 with 1 Axes>"
      ]
     },
     "metadata": {
      "needs_background": "light"
     },
     "output_type": "display_data"
    }
   ],
   "source": [
    "metrics[['accuracy','val_accuracy']].plot()\n",
    "plt.show()"
   ]
  },
  {
   "cell_type": "markdown",
   "metadata": {
    "papermill": {
     "duration": 0.043264,
     "end_time": "2023-03-31T01:57:33.334164",
     "exception": false,
     "start_time": "2023-03-31T01:57:33.290900",
     "status": "completed"
    },
    "tags": []
   },
   "source": [
    "### Model evaluation"
   ]
  },
  {
   "cell_type": "code",
   "execution_count": 19,
   "metadata": {
    "_cell_guid": "716cf381-329b-499d-901b-f035117ccc13",
    "_kg_hide-input": true,
    "_uuid": "828a8b42-c224-488e-8e38-34b5d98e2ae7",
    "collapsed": false,
    "execution": {
     "iopub.execute_input": "2023-03-31T01:57:33.424524Z",
     "iopub.status.busy": "2023-03-31T01:57:33.423818Z",
     "iopub.status.idle": "2023-03-31T01:57:57.243352Z",
     "shell.execute_reply": "2023-03-31T01:57:57.242600Z",
     "shell.execute_reply.started": "2023-03-30T19:25:23.273198Z"
    },
    "jupyter": {
     "outputs_hidden": false
    },
    "papermill": {
     "duration": 23.865992,
     "end_time": "2023-03-31T01:57:57.243494",
     "exception": false,
     "start_time": "2023-03-31T01:57:33.377502",
     "status": "completed"
    },
    "tags": []
   },
   "outputs": [
    {
     "data": {
      "text/plain": [
       "[0.01315999310463667, 0.9968965649604797]"
      ]
     },
     "execution_count": 19,
     "metadata": {},
     "output_type": "execute_result"
    }
   ],
   "source": [
    "model.evaluate(X_test,y_cat_test,verbose=0)"
   ]
  },
  {
   "cell_type": "markdown",
   "metadata": {
    "papermill": {
     "duration": 0.044098,
     "end_time": "2023-03-31T01:57:57.332629",
     "exception": false,
     "start_time": "2023-03-31T01:57:57.288531",
     "status": "completed"
    },
    "tags": []
   },
   "source": [
    "### Predictions   "
   ]
  },
  {
   "cell_type": "code",
   "execution_count": 20,
   "metadata": {
    "_cell_guid": "d2d154b6-4555-4fee-a172-d23850b90d99",
    "_kg_hide-input": true,
    "_uuid": "f7df04f7-8d68-4adf-9909-fb2dc722447f",
    "collapsed": false,
    "execution": {
     "iopub.execute_input": "2023-03-31T01:57:58.791332Z",
     "iopub.status.busy": "2023-03-31T01:57:58.790599Z",
     "iopub.status.idle": "2023-03-31T01:58:21.074595Z",
     "shell.execute_reply": "2023-03-31T01:58:21.075424Z",
     "shell.execute_reply.started": "2023-03-30T19:27:27.147790Z"
    },
    "jupyter": {
     "outputs_hidden": false
    },
    "papermill": {
     "duration": 23.698797,
     "end_time": "2023-03-31T01:58:21.075673",
     "exception": false,
     "start_time": "2023-03-31T01:57:57.376876",
     "status": "completed"
    },
    "tags": []
   },
   "outputs": [
    {
     "name": "stdout",
     "output_type": "stream",
     "text": [
      "Predictions done...\n"
     ]
    }
   ],
   "source": [
    "predictions = model.predict_classes(X_test)\n",
    "print(\"Predictions done...\")"
   ]
  },
  {
   "cell_type": "markdown",
   "metadata": {
    "papermill": {
     "duration": 0.047572,
     "end_time": "2023-03-31T01:58:21.180177",
     "exception": false,
     "start_time": "2023-03-31T01:58:21.132605",
     "status": "completed"
    },
    "tags": []
   },
   "source": [
    "##### 5.6.1 Classification report"
   ]
  },
  {
   "cell_type": "code",
   "execution_count": 21,
   "metadata": {
    "_cell_guid": "ce15c91a-6167-4c26-8c20-4ce024b9550e",
    "_kg_hide-input": true,
    "_uuid": "3422a44a-c7a6-4142-9bd5-2602ad158b43",
    "collapsed": false,
    "execution": {
     "iopub.execute_input": "2023-03-31T01:58:21.281367Z",
     "iopub.status.busy": "2023-03-31T01:58:21.280676Z",
     "iopub.status.idle": "2023-03-31T01:58:21.368350Z",
     "shell.execute_reply": "2023-03-31T01:58:21.369140Z",
     "shell.execute_reply.started": "2023-03-30T19:27:52.401977Z"
    },
    "jupyter": {
     "outputs_hidden": false
    },
    "papermill": {
     "duration": 0.138156,
     "end_time": "2023-03-31T01:58:21.369392",
     "exception": false,
     "start_time": "2023-03-31T01:58:21.231236",
     "status": "completed"
    },
    "tags": []
   },
   "outputs": [
    {
     "name": "stdout",
     "output_type": "stream",
     "text": [
      "              precision    recall  f1-score   support\n",
      "\n",
      "           0       1.00      1.00      1.00       900\n",
      "           1       1.00      1.00      1.00       900\n",
      "           2       1.00      1.00      1.00       900\n",
      "           3       1.00      1.00      1.00       900\n",
      "           4       0.99      1.00      1.00       900\n",
      "           5       1.00      1.00      1.00       900\n",
      "           6       1.00      0.99      0.99       900\n",
      "           7       0.98      1.00      0.99       900\n",
      "           8       1.00      1.00      1.00       900\n",
      "           9       1.00      1.00      1.00       900\n",
      "          10       0.99      1.00      0.99       900\n",
      "          11       1.00      1.00      1.00       900\n",
      "          12       1.00      1.00      1.00       900\n",
      "          13       1.00      1.00      1.00       900\n",
      "          14       1.00      1.00      1.00       900\n",
      "          15       1.00      1.00      1.00       900\n",
      "          16       1.00      1.00      1.00       900\n",
      "          17       1.00      0.99      0.99       900\n",
      "          18       1.00      0.99      0.99       900\n",
      "          19       1.00      1.00      1.00       900\n",
      "          20       0.99      1.00      1.00       900\n",
      "          21       0.99      0.99      0.99       900\n",
      "          22       1.00      0.98      0.99       900\n",
      "          23       1.00      1.00      1.00       900\n",
      "          24       1.00      1.00      1.00       900\n",
      "          25       1.00      1.00      1.00       900\n",
      "          26       1.00      1.00      1.00       900\n",
      "          27       1.00      1.00      1.00       900\n",
      "          28       1.00      1.00      1.00       900\n",
      "\n",
      "    accuracy                           1.00     26100\n",
      "   macro avg       1.00      1.00      1.00     26100\n",
      "weighted avg       1.00      1.00      1.00     26100\n",
      "\n"
     ]
    }
   ],
   "source": [
    "from sklearn.metrics import classification_report, confusion_matrix\n",
    "print(classification_report(y_test,predictions))"
   ]
  },
  {
   "cell_type": "markdown",
   "metadata": {
    "papermill": {
     "duration": 0.052869,
     "end_time": "2023-03-31T01:58:21.474722",
     "exception": false,
     "start_time": "2023-03-31T01:58:21.421853",
     "status": "completed"
    },
    "tags": []
   },
   "source": [
    "##### 5.6.2 Confusion matrix heatmap"
   ]
  },
  {
   "cell_type": "code",
   "execution_count": 22,
   "metadata": {
    "_cell_guid": "82ddeca2-22ce-4dce-9649-62e172593c4d",
    "_kg_hide-input": true,
    "_uuid": "16da6316-14ee-4ea6-9c8a-e5c7dd4947b8",
    "collapsed": false,
    "execution": {
     "iopub.execute_input": "2023-03-31T01:58:21.568614Z",
     "iopub.status.busy": "2023-03-31T01:58:21.567578Z",
     "iopub.status.idle": "2023-03-31T01:58:22.282608Z",
     "shell.execute_reply": "2023-03-31T01:58:22.283310Z",
     "shell.execute_reply.started": "2023-03-30T19:27:56.643445Z"
    },
    "jupyter": {
     "outputs_hidden": false
    },
    "papermill": {
     "duration": 0.76376,
     "end_time": "2023-03-31T01:58:22.283472",
     "exception": false,
     "start_time": "2023-03-31T01:58:21.519712",
     "status": "completed"
    },
    "tags": []
   },
   "outputs": [
    {
     "data": {
      "image/png": "[encoded data removed]",
      "text/plain": [
       "<Figure size 864x864 with 2 Axes>"
      ]
     },
     "metadata": {
      "needs_background": "light"
     },
     "output_type": "display_data"
    }
   ],
   "source": [
    "plt.figure(figsize=(12,12))\n",
    "sns.heatmap(confusion_matrix(y_test,predictions))\n",
    "plt.show()"
   ]
  },
  {
   "cell_type": "code",
   "execution_count": null,
   "metadata": {
    "papermill": {
     "duration": 0.046404,
     "end_time": "2023-03-31T01:58:22.651757",
     "exception": false,
     "start_time": "2023-03-31T01:58:22.605353",
     "status": "completed"
    },
    "tags": []
   },
   "outputs": [],
   "source": []
  },
  {
   "cell_type": "code",
   "execution_count": null,
   "metadata": {},
   "outputs": [],
   "source": []
  },
  {
   "cell_type": "markdown",
   "metadata": {},
   "source": [
    "- By - Ritvik Jain\n",
    "- Stevens Institute of Technology "
   ]
  },
  {
   "cell_type": "code",
   "execution_count": null,
   "metadata": {},
   "outputs": [],
   "source": []
  }
 ],
 "metadata": {
  "kernelspec": {
   "display_name": "Python 3 (ipykernel)",
   "language": "python",
   "name": "python3"
  },
  "language_info": {
   "codemirror_mode": {
    "name": "ipython",
    "version": 3
   },
   "file_extension": ".py",
   "mimetype": "text/x-python",
   "name": "python",
   "nbconvert_exporter": "python",
   "pygments_lexer": "ipython3",
   "version": "3.9.12"
  },
  "papermill": {
   "duration": 4325.431924,
   "end_time": "2023-03-31T01:58:23.829602",
   "environment_variables": {},
   "exception": null,
   "input_path": "__notebook__.ipynb",
   "output_path": "__notebook__.ipynb",
   "parameters": {},
   "start_time": "2023-03-31T00:46:18.397678",
   "version": "2.1.0"
  }
 },
 "nbformat": 4,
 "nbformat_minor": 4
}
